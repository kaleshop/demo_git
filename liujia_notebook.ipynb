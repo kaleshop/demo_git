{
 "cells": [
  {
   "cell_type": "code",
   "execution_count": 3,
   "id": "dc13b33a",
   "metadata": {},
   "outputs": [
    {
     "name": "stdout",
     "output_type": "stream",
     "text": [
      "hello\n"
     ]
    }
   ],
   "source": [
    "print(\"hello\")"
   ]
  },
  {
   "cell_type": "code",
   "execution_count": 5,
   "id": "45996006",
   "metadata": {},
   "outputs": [
    {
     "name": "stdout",
     "output_type": "stream",
     "text": [
      "hell\n",
      "o\n"
     ]
    }
   ],
   "source": [
    "print(\"hell\\no\")"
   ]
  },
  {
   "cell_type": "code",
   "execution_count": 6,
   "id": "97e1ead0",
   "metadata": {},
   "outputs": [
    {
     "name": "stdout",
     "output_type": "stream",
     "text": [
      "可香\n"
     ]
    }
   ],
   "source": [
    "print(\"可香\")"
   ]
  },
  {
   "cell_type": "code",
   "execution_count": 7,
   "id": "26d19dcd",
   "metadata": {},
   "outputs": [
    {
     "name": "stdout",
     "output_type": "stream",
     "text": [
      "I'm liujia\n"
     ]
    }
   ],
   "source": [
    "print(\"I'm liujia\")"
   ]
  },
  {
   "cell_type": "code",
   "execution_count": 8,
   "id": "6ca00c6d",
   "metadata": {},
   "outputs": [
    {
     "name": "stdout",
     "output_type": "stream",
     "text": [
      "I'm liujia\n"
     ]
    }
   ],
   "source": [
    "print('I\\'m liujia')"
   ]
  },
  {
   "cell_type": "code",
   "execution_count": 9,
   "id": "b1e9ddda",
   "metadata": {},
   "outputs": [
    {
     "name": "stdout",
     "output_type": "stream",
     "text": [
      "applecup\n"
     ]
    }
   ],
   "source": [
    "print('apple'+'cup')"
   ]
  },
  {
   "cell_type": "code",
   "execution_count": 10,
   "id": "53d60b96",
   "metadata": {},
   "outputs": [
    {
     "name": "stdout",
     "output_type": "stream",
     "text": [
      "apple4\n"
     ]
    }
   ],
   "source": [
    "print('apple'+str(4))"
   ]
  },
  {
   "cell_type": "code",
   "execution_count": 11,
   "id": "7717bdee",
   "metadata": {},
   "outputs": [
    {
     "name": "stdout",
     "output_type": "stream",
     "text": [
      "3\n"
     ]
    }
   ],
   "source": [
    "print(1+2)"
   ]
  },
  {
   "cell_type": "code",
   "execution_count": 12,
   "id": "2c73e725",
   "metadata": {},
   "outputs": [
    {
     "name": "stdout",
     "output_type": "stream",
     "text": [
      "1+2\n"
     ]
    }
   ],
   "source": [
    "print('1+2')"
   ]
  },
  {
   "cell_type": "code",
   "execution_count": 13,
   "id": "48dec1c7",
   "metadata": {},
   "outputs": [
    {
     "name": "stdout",
     "output_type": "stream",
     "text": [
      "3.2\n"
     ]
    }
   ],
   "source": [
    "print(float(\"1.2\")+2)"
   ]
  },
  {
   "cell_type": "code",
   "execution_count": 14,
   "id": "0a3bfbf0",
   "metadata": {},
   "outputs": [
    {
     "name": "stdout",
     "output_type": "stream",
     "text": [
      "3\n"
     ]
    }
   ],
   "source": [
    "print(int(\"1\")+2)"
   ]
  },
  {
   "cell_type": "code",
   "execution_count": 16,
   "id": "53027123",
   "metadata": {},
   "outputs": [
    {
     "data": {
      "text/plain": [
       "2"
      ]
     },
     "execution_count": 16,
     "metadata": {},
     "output_type": "execute_result"
    }
   ],
   "source": [
    "1+1"
   ]
  },
  {
   "cell_type": "markdown",
   "id": "bcbc10a8",
   "metadata": {},
   "source": [
    "1-1"
   ]
  },
  {
   "cell_type": "code",
   "execution_count": 17,
   "id": "dc33772c",
   "metadata": {},
   "outputs": [
    {
     "data": {
      "text/plain": [
       "0"
      ]
     },
     "execution_count": 17,
     "metadata": {},
     "output_type": "execute_result"
    }
   ],
   "source": [
    "1-1"
   ]
  },
  {
   "cell_type": "code",
   "execution_count": 18,
   "id": "0a7aa4c1",
   "metadata": {},
   "outputs": [
    {
     "data": {
      "text/plain": [
       "4"
      ]
     },
     "execution_count": 18,
     "metadata": {},
     "output_type": "execute_result"
    }
   ],
   "source": [
    "2*2"
   ]
  },
  {
   "cell_type": "code",
   "execution_count": 19,
   "id": "023e76b3",
   "metadata": {},
   "outputs": [
    {
     "data": {
      "text/plain": [
       "128"
      ]
     },
     "execution_count": 19,
     "metadata": {},
     "output_type": "execute_result"
    }
   ],
   "source": [
    "2**7"
   ]
  },
  {
   "cell_type": "code",
   "execution_count": 20,
   "id": "d4ba0500",
   "metadata": {},
   "outputs": [
    {
     "data": {
      "text/plain": [
       "1"
      ]
     },
     "execution_count": 20,
     "metadata": {},
     "output_type": "execute_result"
    }
   ],
   "source": [
    "7%3"
   ]
  },
  {
   "cell_type": "code",
   "execution_count": 21,
   "id": "f574bdb9",
   "metadata": {},
   "outputs": [
    {
     "data": {
      "text/plain": [
       "1"
      ]
     },
     "execution_count": 21,
     "metadata": {},
     "output_type": "execute_result"
    }
   ],
   "source": [
    "9//5"
   ]
  },
  {
   "cell_type": "code",
   "execution_count": 30,
   "id": "0e64bb28",
   "metadata": {},
   "outputs": [
    {
     "name": "stdout",
     "output_type": "stream",
     "text": [
      "1000002\n"
     ]
    }
   ],
   "source": [
    "appl_e=1000000+2\n",
    "print(appl_e)"
   ]
  },
  {
   "cell_type": "code",
   "execution_count": 31,
   "id": "46248d5a",
   "metadata": {},
   "outputs": [
    {
     "name": "stdout",
     "output_type": "stream",
     "text": [
      "1 4 78\n"
     ]
    }
   ],
   "source": [
    "a=1\n",
    "b=4\n",
    "c=78\n",
    "print(a,b,c)"
   ]
  },
  {
   "cell_type": "code",
   "execution_count": 32,
   "id": "4c5b241e",
   "metadata": {},
   "outputs": [
    {
     "name": "stdout",
     "output_type": "stream",
     "text": [
      "1 2 3\n"
     ]
    }
   ],
   "source": [
    "a,b,c=1,2,3\n",
    "print(a,b,c)"
   ]
  },
  {
   "cell_type": "code",
   "execution_count": 33,
   "id": "21bca38a",
   "metadata": {},
   "outputs": [
    {
     "name": "stdout",
     "output_type": "stream",
     "text": [
      "78 17565568854912\n"
     ]
    }
   ],
   "source": [
    "a=78\n",
    "b=a**7\n",
    "print(a,b)"
   ]
  },
  {
   "cell_type": "code",
   "execution_count": 38,
   "id": "f0d04aca",
   "metadata": {
    "scrolled": false
   },
   "outputs": [
    {
     "name": "stdout",
     "output_type": "stream",
     "text": [
      "c------->1\n",
      "c------->2\n",
      "c------->3\n",
      "c------->4\n",
      "c------->5\n",
      "c------->6\n",
      "c------->7\n",
      "c------->8\n",
      "c------->9\n",
      "c------->10\n"
     ]
    }
   ],
   "source": [
    "c=1\n",
    "while c<=10:\n",
    "    \n",
    "    print(f\"c------->{c}\")\n",
    "    c+=1"
   ]
  },
  {
   "cell_type": "code",
   "execution_count": 63,
   "id": "78394d89",
   "metadata": {},
   "outputs": [
    {
     "name": "stdout",
     "output_type": "stream",
     "text": [
      "刘嘉\n",
      "加油！\n",
      "子璇\n",
      "加油！\n",
      "陈惠\n",
      "加油！\n",
      "学业有成，万事如意\n"
     ]
    }
   ],
   "source": [
    "example=[\"刘嘉\",\"子璇\",\"陈惠\"]\n",
    "for i in example:\n",
    "    print(i)\n",
    "    print(\"加油！\")\n",
    "print(\"学业有成，万事如意\")"
   ]
  },
  {
   "cell_type": "code",
   "execution_count": 68,
   "id": "b6e841d4",
   "metadata": {},
   "outputs": [
    {
     "name": "stdout",
     "output_type": "stream",
     "text": [
      "1\n",
      "2\n",
      "3\n",
      "4\n",
      "5\n",
      "6\n",
      "7\n",
      "8\n",
      "9\n"
     ]
    }
   ],
   "source": [
    "#打出i在1到10的范围内符合的数\n",
    "for i in range(1,10):\n",
    "    print(i)"
   ]
  },
  {
   "cell_type": "code",
   "execution_count": 71,
   "id": "39aa7334",
   "metadata": {},
   "outputs": [
    {
     "name": "stdout",
     "output_type": "stream",
     "text": [
      "1\n",
      "35\n",
      "69\n",
      "103\n",
      "137\n",
      "171\n",
      "205\n",
      "239\n",
      "273\n"
     ]
    }
   ],
   "source": [
    "#打出i在1到300，每隔34的那个数\n",
    "for i in range(1,300,34):\n",
    "    print(i)"
   ]
  },
  {
   "cell_type": "code",
   "execution_count": 167,
   "id": "d39d42ae",
   "metadata": {},
   "outputs": [
    {
     "name": "stdout",
     "output_type": "stream",
     "text": [
      "50\n",
      "110\n",
      "170\n",
      "230\n",
      "290\n",
      "100\n",
      "150\n",
      "200\n",
      "250\n",
      "300\n",
      "Both liujia and zixuan are  good. \n"
     ]
    }
   ],
   "source": [
    "#单调的条件语句\n",
    "liujia=100\n",
    "zixuan=50\n",
    "\n",
    "zixuan=50\n",
    "while zixuan<=300: \n",
    "    print(zixuan)\n",
    "    zixuan+=60\n",
    "    \n",
    "liujia=100\n",
    "while liujia<=300:\n",
    "    print(liujia)\n",
    "    liujia+=50\n",
    "if liujia>zixuan:\n",
    "    print(\"Liujia is greater than zixuan.\")\n",
    "if zixuan>liujia:\n",
    "    print(\"Zixuan is greater than liujia.\")\n",
    "if zixuan==liujia:\n",
    "    print(\"Both liujia and zixuan are  good. \")\n",
    "    \n"
   ]
  },
  {
   "cell_type": "code",
   "execution_count": 83,
   "id": "eb4d6d42",
   "metadata": {},
   "outputs": [
    {
     "name": "stdout",
     "output_type": "stream",
     "text": [
      "you are best.\n"
     ]
    }
   ],
   "source": [
    "x=40\n",
    "y=50\n",
    "if x!=y:\n",
    "    print(\"you are best.\")"
   ]
  },
  {
   "cell_type": "code",
   "execution_count": 90,
   "id": "a3e4e00a",
   "metadata": {},
   "outputs": [
    {
     "name": "stdout",
     "output_type": "stream",
     "text": [
      "x<1\n"
     ]
    }
   ],
   "source": [
    "#if elif else\n",
    "x=-4\n",
    "y=4\n",
    "z=7\n",
    "if x>1:\n",
    "    print(\"x>1\")\n",
    "elif x<1:\n",
    "    print(\"x<1\")\n",
    "elif x<-1:\n",
    "    print(\"x<-1\")\n",
    "else :\n",
    "    print(\"x=1\")\n",
    "#如果其满足其中两个条件，运行过程中也会选择最开始满足的条件，跳出循环"
   ]
  },
  {
   "cell_type": "code",
   "execution_count": 168,
   "id": "5e4c877e",
   "metadata": {},
   "outputs": [],
   "source": [
    "#def 定义一个数据\n",
    "def liujia():\n",
    "    print(\"Welcom!\")\n",
    "    print(\"This is your namber,please check it\")\n",
    "    a=13\n",
    "    print(a)\n",
    "    \n",
    "    "
   ]
  },
  {
   "cell_type": "code",
   "execution_count": 169,
   "id": "8134b98f",
   "metadata": {},
   "outputs": [
    {
     "name": "stdout",
     "output_type": "stream",
     "text": [
      "Welcom!\n",
      "This is your namber,please check it\n",
      "13\n"
     ]
    }
   ],
   "source": [
    "liujia()"
   ]
  },
  {
   "cell_type": "code",
   "execution_count": 103,
   "id": "6ff41030",
   "metadata": {},
   "outputs": [],
   "source": [
    "#f()默认第一个为a，第二个为b\n",
    "def f(a,b):\n",
    "    c=a+b\n",
    "    print(\"welcome!\",c)\n",
    "    print(\"太好听了吧！\")"
   ]
  },
  {
   "cell_type": "code",
   "execution_count": 104,
   "id": "ddaf8b59",
   "metadata": {},
   "outputs": [
    {
     "name": "stdout",
     "output_type": "stream",
     "text": [
      "welcome! 唐可可同学\n",
      "太好听了吧！\n"
     ]
    }
   ],
   "source": [
    "f(\"唐可可\",\"同学\")"
   ]
  },
  {
   "cell_type": "code",
   "execution_count": 198,
   "id": "78af0709",
   "metadata": {},
   "outputs": [
    {
     "name": "stdout",
     "output_type": "stream",
     "text": [
      "size: L price: 50 brand: kafa\n"
     ]
    }
   ],
   "source": [
    "#默认函数值\n",
    "def drink(size,price=10,brand='kafa'):\n",
    "    print('size:',size,\n",
    "          'price:',price,\n",
    "         'brand:',brand)\n",
    "#加料不加价（不完善）\n",
    "drink(\"L\",price=50,)\n",
    "\n",
    "\n"
   ]
  },
  {
   "cell_type": "code",
   "execution_count": 199,
   "id": "2e9c10c2",
   "metadata": {},
   "outputs": [
    {
     "name": "stdout",
     "output_type": "stream",
     "text": [
      "size: L price: 10 brand: kafa\n"
     ]
    }
   ],
   "source": [
    "drink(\"L\")"
   ]
  },
  {
   "cell_type": "code",
   "execution_count": 202,
   "id": "1ec75709",
   "metadata": {},
   "outputs": [],
   "source": [
    "#局部变量和整体变量\n",
    "def f():\n",
    "    a=10\n",
    "    print(a)\n",
    "    return a*a      \n"
   ]
  },
  {
   "cell_type": "code",
   "execution_count": 203,
   "id": "fe239d60",
   "metadata": {},
   "outputs": [
    {
     "name": "stdout",
     "output_type": "stream",
     "text": [
      "10\n"
     ]
    },
    {
     "data": {
      "text/plain": [
       "100"
      ]
     },
     "execution_count": 203,
     "metadata": {},
     "output_type": "execute_result"
    }
   ],
   "source": [
    "f()"
   ]
  },
  {
   "cell_type": "code",
   "execution_count": 204,
   "id": "354e6f4e",
   "metadata": {},
   "outputs": [
    {
     "name": "stdout",
     "output_type": "stream",
     "text": [
      "10\n",
      "100\n"
     ]
    }
   ],
   "source": [
    "def f():\n",
    "    a=10\n",
    "    print(a)\n",
    "    return a*a      \n",
    "print(f())"
   ]
  },
  {
   "cell_type": "code",
   "execution_count": 216,
   "id": "22a296f8",
   "metadata": {},
   "outputs": [
    {
     "name": "stdout",
     "output_type": "stream",
     "text": [
      "200\n",
      "78\n"
     ]
    }
   ],
   "source": [
    "APPLE=200\n",
    "#全局变量\n",
    "\n",
    "def f():\n",
    "    a=10\n",
    "    return a+10    \n",
    "print(APPLE)\n",
    "print(a)"
   ]
  },
  {
   "cell_type": "code",
   "execution_count": 217,
   "id": "e188a3b1",
   "metadata": {},
   "outputs": [
    {
     "name": "stdout",
     "output_type": "stream",
     "text": [
      "10\n",
      "20\n"
     ]
    }
   ],
   "source": [
    "APPLE=10\n",
    "def f():\n",
    "    a=APPLE\n",
    "#给局部变量一个定义\n",
    "    return a+10\n",
    "print(APPLE)\n",
    "print(f())"
   ]
  },
  {
   "cell_type": "code",
   "execution_count": 219,
   "id": "e022fa0f",
   "metadata": {},
   "outputs": [
    {
     "name": "stdout",
     "output_type": "stream",
     "text": [
      "10\n",
      "a past= 1\n",
      "400\n",
      "a now= 20\n"
     ]
    }
   ],
   "source": [
    "APPLE=10\n",
    "a=1\n",
    "def f():\n",
    "    global a\n",
    "    a=20 \n",
    "    return a**2\n",
    "print(APPLE)\n",
    "print(\"a past=\",a)\n",
    "#先要运算函数，才能得出结果a\n",
    "print(f())\n",
    "print('a now=',a)\n",
    "#在最后这里，print出来的是a在函数中运算时的数"
   ]
  },
  {
   "cell_type": "code",
   "execution_count": null,
   "id": "ba73b9bd",
   "metadata": {},
   "outputs": [],
   "source": []
  },
  {
   "cell_type": "code",
   "execution_count": null,
   "id": "d18378aa",
   "metadata": {},
   "outputs": [],
   "source": []
  },
  {
   "cell_type": "code",
   "execution_count": null,
   "id": "8ea4a6c6",
   "metadata": {},
   "outputs": [],
   "source": []
  },
  {
   "cell_type": "code",
   "execution_count": null,
   "id": "399d31d0",
   "metadata": {},
   "outputs": [],
   "source": [
    "\n"
   ]
  },
  {
   "cell_type": "code",
   "execution_count": null,
   "id": "660925d4",
   "metadata": {},
   "outputs": [],
   "source": [
    "\n",
    "\n"
   ]
  },
  {
   "cell_type": "code",
   "execution_count": null,
   "id": "b3084498",
   "metadata": {},
   "outputs": [],
   "source": []
  },
  {
   "cell_type": "code",
   "execution_count": null,
   "id": "b77ee055",
   "metadata": {},
   "outputs": [],
   "source": []
  },
  {
   "cell_type": "code",
   "execution_count": null,
   "id": "d89d0ea7",
   "metadata": {},
   "outputs": [],
   "source": []
  },
  {
   "cell_type": "code",
   "execution_count": null,
   "id": "73752c10",
   "metadata": {},
   "outputs": [],
   "source": []
  },
  {
   "cell_type": "code",
   "execution_count": null,
   "id": "1d0983c3",
   "metadata": {},
   "outputs": [],
   "source": []
  },
  {
   "cell_type": "code",
   "execution_count": null,
   "id": "49751202",
   "metadata": {},
   "outputs": [],
   "source": []
  },
  {
   "cell_type": "code",
   "execution_count": null,
   "id": "192b07d7",
   "metadata": {},
   "outputs": [],
   "source": []
  },
  {
   "cell_type": "code",
   "execution_count": null,
   "id": "d9668714",
   "metadata": {},
   "outputs": [],
   "source": []
  },
  {
   "cell_type": "code",
   "execution_count": null,
   "id": "ba0970a8",
   "metadata": {},
   "outputs": [],
   "source": []
  },
  {
   "cell_type": "code",
   "execution_count": null,
   "id": "5e1c68f2",
   "metadata": {},
   "outputs": [],
   "source": []
  },
  {
   "cell_type": "code",
   "execution_count": null,
   "id": "61dbe22b",
   "metadata": {},
   "outputs": [],
   "source": []
  },
  {
   "cell_type": "code",
   "execution_count": null,
   "id": "cb943c54",
   "metadata": {},
   "outputs": [],
   "source": []
  },
  {
   "cell_type": "code",
   "execution_count": null,
   "id": "55a63ff5",
   "metadata": {},
   "outputs": [],
   "source": [
    "\n"
   ]
  },
  {
   "cell_type": "code",
   "execution_count": null,
   "id": "e241f5b9",
   "metadata": {},
   "outputs": [],
   "source": []
  },
  {
   "cell_type": "code",
   "execution_count": null,
   "id": "fbea64fa",
   "metadata": {},
   "outputs": [],
   "source": []
  },
  {
   "cell_type": "code",
   "execution_count": null,
   "id": "15a5eb48",
   "metadata": {},
   "outputs": [],
   "source": []
  },
  {
   "cell_type": "code",
   "execution_count": null,
   "id": "0e204dce",
   "metadata": {},
   "outputs": [],
   "source": []
  },
  {
   "cell_type": "code",
   "execution_count": null,
   "id": "9bc8108d",
   "metadata": {},
   "outputs": [],
   "source": []
  },
  {
   "cell_type": "code",
   "execution_count": null,
   "id": "013f0cbf",
   "metadata": {},
   "outputs": [],
   "source": []
  },
  {
   "cell_type": "code",
   "execution_count": null,
   "id": "aa6d0a65",
   "metadata": {},
   "outputs": [],
   "source": []
  },
  {
   "cell_type": "code",
   "execution_count": null,
   "id": "2bcbb944",
   "metadata": {},
   "outputs": [],
   "source": []
  },
  {
   "cell_type": "code",
   "execution_count": null,
   "id": "01e701d5",
   "metadata": {},
   "outputs": [],
   "source": []
  },
  {
   "cell_type": "code",
   "execution_count": null,
   "id": "f6aa4f8d",
   "metadata": {},
   "outputs": [],
   "source": []
  },
  {
   "cell_type": "code",
   "execution_count": null,
   "id": "6cb49d02",
   "metadata": {},
   "outputs": [],
   "source": []
  },
  {
   "cell_type": "code",
   "execution_count": null,
   "id": "bd484a03",
   "metadata": {},
   "outputs": [],
   "source": []
  },
  {
   "cell_type": "code",
   "execution_count": null,
   "id": "a04745dc",
   "metadata": {},
   "outputs": [],
   "source": []
  },
  {
   "cell_type": "code",
   "execution_count": null,
   "id": "11a34197",
   "metadata": {},
   "outputs": [],
   "source": []
  },
  {
   "cell_type": "code",
   "execution_count": null,
   "id": "65dce6c7",
   "metadata": {},
   "outputs": [],
   "source": []
  },
  {
   "cell_type": "code",
   "execution_count": null,
   "id": "6db4f907",
   "metadata": {},
   "outputs": [],
   "source": []
  },
  {
   "cell_type": "code",
   "execution_count": null,
   "id": "262f5392",
   "metadata": {},
   "outputs": [],
   "source": []
  },
  {
   "cell_type": "code",
   "execution_count": null,
   "id": "d064343e",
   "metadata": {},
   "outputs": [],
   "source": []
  },
  {
   "cell_type": "code",
   "execution_count": null,
   "id": "95cdd1d8",
   "metadata": {},
   "outputs": [],
   "source": []
  },
  {
   "cell_type": "code",
   "execution_count": null,
   "id": "d9d42a4a",
   "metadata": {},
   "outputs": [],
   "source": []
  },
  {
   "cell_type": "code",
   "execution_count": null,
   "id": "f981e06f",
   "metadata": {},
   "outputs": [],
   "source": []
  },
  {
   "cell_type": "code",
   "execution_count": null,
   "id": "93074667",
   "metadata": {},
   "outputs": [],
   "source": []
  },
  {
   "cell_type": "code",
   "execution_count": null,
   "id": "5efc012f",
   "metadata": {},
   "outputs": [],
   "source": []
  },
  {
   "cell_type": "code",
   "execution_count": null,
   "id": "251196bc",
   "metadata": {},
   "outputs": [],
   "source": []
  },
  {
   "cell_type": "code",
   "execution_count": null,
   "id": "57b0e6df",
   "metadata": {},
   "outputs": [],
   "source": []
  },
  {
   "cell_type": "code",
   "execution_count": null,
   "id": "306838c8",
   "metadata": {},
   "outputs": [],
   "source": []
  },
  {
   "cell_type": "code",
   "execution_count": null,
   "id": "8f01b3df",
   "metadata": {},
   "outputs": [],
   "source": []
  },
  {
   "cell_type": "code",
   "execution_count": null,
   "id": "823b60da",
   "metadata": {},
   "outputs": [],
   "source": []
  },
  {
   "cell_type": "code",
   "execution_count": null,
   "id": "f5875e3b",
   "metadata": {},
   "outputs": [],
   "source": []
  },
  {
   "cell_type": "code",
   "execution_count": null,
   "id": "ebd5b247",
   "metadata": {},
   "outputs": [],
   "source": []
  },
  {
   "cell_type": "code",
   "execution_count": null,
   "id": "de4c9d7e",
   "metadata": {},
   "outputs": [],
   "source": []
  },
  {
   "cell_type": "code",
   "execution_count": null,
   "id": "164dd501",
   "metadata": {},
   "outputs": [],
   "source": []
  },
  {
   "cell_type": "code",
   "execution_count": null,
   "id": "9f6da653",
   "metadata": {},
   "outputs": [],
   "source": []
  },
  {
   "cell_type": "code",
   "execution_count": null,
   "id": "39869b10",
   "metadata": {},
   "outputs": [],
   "source": []
  },
  {
   "cell_type": "code",
   "execution_count": null,
   "id": "d17789f3",
   "metadata": {},
   "outputs": [],
   "source": []
  },
  {
   "cell_type": "code",
   "execution_count": null,
   "id": "76bee804",
   "metadata": {},
   "outputs": [],
   "source": []
  },
  {
   "cell_type": "code",
   "execution_count": null,
   "id": "dc96ebb0",
   "metadata": {},
   "outputs": [],
   "source": []
  },
  {
   "cell_type": "code",
   "execution_count": null,
   "id": "48ad4b8a",
   "metadata": {},
   "outputs": [],
   "source": []
  },
  {
   "cell_type": "code",
   "execution_count": null,
   "id": "c20d4af5",
   "metadata": {},
   "outputs": [],
   "source": []
  },
  {
   "cell_type": "code",
   "execution_count": null,
   "id": "2806f3f4",
   "metadata": {},
   "outputs": [],
   "source": []
  },
  {
   "cell_type": "code",
   "execution_count": null,
   "id": "33a17adc",
   "metadata": {},
   "outputs": [],
   "source": []
  },
  {
   "cell_type": "code",
   "execution_count": null,
   "id": "87ce29ec",
   "metadata": {},
   "outputs": [],
   "source": []
  },
  {
   "cell_type": "code",
   "execution_count": null,
   "id": "f9425963",
   "metadata": {},
   "outputs": [],
   "source": []
  },
  {
   "cell_type": "code",
   "execution_count": null,
   "id": "1e4b47cf",
   "metadata": {},
   "outputs": [],
   "source": []
  },
  {
   "cell_type": "code",
   "execution_count": null,
   "id": "270a875e",
   "metadata": {},
   "outputs": [],
   "source": []
  },
  {
   "cell_type": "code",
   "execution_count": null,
   "id": "15632abe",
   "metadata": {},
   "outputs": [],
   "source": []
  },
  {
   "cell_type": "code",
   "execution_count": null,
   "id": "f21b03d0",
   "metadata": {},
   "outputs": [],
   "source": []
  },
  {
   "cell_type": "code",
   "execution_count": null,
   "id": "70e92d81",
   "metadata": {},
   "outputs": [],
   "source": []
  },
  {
   "cell_type": "code",
   "execution_count": null,
   "id": "2114efba",
   "metadata": {},
   "outputs": [],
   "source": [
    "\n"
   ]
  }
 ],
 "metadata": {
  "kernelspec": {
   "display_name": "Python 3",
   "language": "python",
   "name": "python3"
  },
  "language_info": {
   "codemirror_mode": {
    "name": "ipython",
    "version": 3
   },
   "file_extension": ".py",
   "mimetype": "text/x-python",
   "name": "python",
   "nbconvert_exporter": "python",
   "pygments_lexer": "ipython3",
   "version": "3.8.8"
  }
 },
 "nbformat": 4,
 "nbformat_minor": 5
}
